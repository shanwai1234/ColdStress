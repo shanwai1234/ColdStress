{
 "cells": [
  {
   "cell_type": "code",
   "execution_count": 1,
   "metadata": {},
   "outputs": [],
   "source": [
    "from bx.intervals.intersection import Intersecter, Interval"
   ]
  },
  {
   "cell_type": "code",
   "execution_count": 15,
   "metadata": {},
   "outputs": [],
   "source": [
    "expte = set([])\n",
    "te = open(\"/home/zliang/Documents/projects-in-Nathan-lab/stress-experiment/ca20a3/ca20a3-B73v4-W22-Mo17index/2020JuneReanalysis/CPMvalue/fourcategories-TEelement-expression/B73-control-expressed.txt\", \"r\")\n",
    "te.readline()\n",
    "for x in te:\n",
    "    y = x.strip()\n",
    "    expte.add(y)\n",
    "te.close()"
   ]
  },
  {
   "cell_type": "code",
   "execution_count": 16,
   "metadata": {},
   "outputs": [
    {
     "name": "stdout",
     "output_type": "stream",
     "text": [
      "45725052\n"
     ]
    }
   ],
   "source": [
    "teann = open(\"/home/zliang/Documents/genomeinfo/B73.v4.41.structuralTEv2.2020.03.22.filteredTE.disjoined.gff3\",'r')\n",
    "expte_dict = {}\n",
    "\n",
    "good_chrom = set([])\n",
    "for x in range(1, 11):\n",
    "    y = str(x)\n",
    "    good_chrom.add(y)\n",
    "    expte_dict[y] = Intersecter()\n",
    "\n",
    "mylen = 0\n",
    "\n",
    "for line in teann:\n",
    "    new = line.strip().split('\\t')\n",
    "    name = new[-1].split(';')[0].replace('ID=','').replace('gene:','')\n",
    "    st = int(new[3])\n",
    "    sp = int(new[4])\n",
    "    mychr = new[0].replace('chr','')\n",
    "    diff = abs(st-sp)+1\n",
    "    if name in expte:\n",
    "        mylen += diff\n",
    "        expte_dict[mychr].add_interval(Interval(st, sp))\n",
    "\n",
    "teann.close()\n",
    "\n",
    "print (mylen)"
   ]
  },
  {
   "cell_type": "code",
   "execution_count": 17,
   "metadata": {},
   "outputs": [],
   "source": [
    "umr = open(\"/home/zliang/Documents/genomeinfo/UMRdata/B73.control.UMRs.bed\",\"r\")\n",
    "\n",
    "umr_dict = {}\n",
    "\n",
    "good_chrom = set([])\n",
    "\n",
    "for x in range(1, 11):\n",
    "    y = str(x)\n",
    "    good_chrom.add(y)\n",
    "    umr_dict[y] = Intersecter()\n",
    "    \n",
    "for line in umr:\n",
    "    new = line.strip().split('\\t')\n",
    "    mychr = new[0].replace('chr','')\n",
    "#    mychr = str(int(new[0].replace('M',''))) # for Mo17\n",
    "    st = int(new[1])\n",
    "    sp = int(new[2])\n",
    "    diff = abs(st-sp)+1\n",
    "    if mychr not in good_chrom:continue\n",
    "    umr_dict[mychr].add_interval(Interval(st, sp, value=diff))\n",
    "    \n",
    "umr.close()"
   ]
  },
  {
   "cell_type": "code",
   "execution_count": 18,
   "metadata": {},
   "outputs": [
    {
     "name": "stdout",
     "output_type": "stream",
     "text": [
      "301\n"
     ]
    }
   ],
   "source": [
    "umr = open(\"/home/zliang/Documents/genomeinfo/UMRdata/B73.control.UMRs.bed\",\"r\")\n",
    "\n",
    "alist = [\"-1000\",\"-900\",\"-800\",\"-700\",\"-600\",\"-500\",\"-400\",\"-300\",\"-200\",\"-100\",\"UMR\",\n",
    "        \"100\",\"200\",\"300\",\"400\",\"500\",\"600\",\"700\",\"800\",\"900\",\"1000\"]\n",
    "\n",
    "out = open(\"B73-control-expressed-UMR-regions.bed\",'w')\n",
    "\n",
    "mylen = 0\n",
    "xx = 1\n",
    "for line in umr:\n",
    "    new = line.strip().split('\\t')\n",
    "    mychr = new[0].replace('chr','')\n",
    "#    mychr = str(int(new[0].replace('M',''))) # for Mo17\n",
    "    if mychr not in good_chrom:continue\n",
    "    st = int(new[1])\n",
    "    sp = int(new[2])\n",
    "    nlist = []\n",
    "    diff = abs(st-sp)+1\n",
    "    mylen += diff\n",
    "    a = expte_dict[mychr].find(st, sp) # check with expressed TE elements region\n",
    "    if len(a) == 0:continue # only look for UMR inside expressed TE region\n",
    "    for n in range(10):\n",
    "        d1 = st - 100*n - 1\n",
    "        d2 = st - 100*(n+1)\n",
    "        a = umr_dict[mychr].find(d2, d1)\n",
    "        if len(a) > 0:\n",
    "            name = str(-100*(n+1)) + ':UMR|' + str(xx) + '=NA'\n",
    "            out.write(mychr+'\\t'+str(d2)+'\\t'+str(d1)+'\\t'+name+'\\n')\n",
    "        else:\n",
    "            name = str(-100*(n+1)) + ':UMR|' + str(xx)\n",
    "            out.write(mychr+'\\t'+str(d2)+'\\t'+str(d1)+'\\t'+name+'\\n')\n",
    "                    \n",
    "    name = str(0) + ':UMR|' + str(xx)\n",
    "    out.write(mychr+'\\t'+str(st)+'\\t'+str(sp)+'\\t'+name+'\\n')\n",
    "        \n",
    "    for n in range(10):\n",
    "        d1 = sp + 100*n + 1\n",
    "        d2 = sp + 100*(n+1)\n",
    "        a = umr_dict[mychr].find(d1, d2)\n",
    "        if len(a) > 0:\n",
    "            name = str(100*(n+1)) + ':UMR|' + str(xx) + '=NA'\n",
    "            out.write(mychr+'\\t'+str(d1)+'\\t'+str(d2)+'\\t'+name+'\\n')\n",
    "        else:\n",
    "            name = str(100*(n+1)) + ':UMR|' + str(xx)\n",
    "            out.write(mychr+'\\t'+str(d1)+'\\t'+str(d2)+'\\t'+name+'\\n')\n",
    "    xx += 1\n",
    "    \n",
    "umr.close()\n",
    "out.close()\n",
    "\n",
    "print (diff)"
   ]
  }
 ],
 "metadata": {
  "kernelspec": {
   "display_name": "Python 3",
   "language": "python",
   "name": "python3"
  },
  "language_info": {
   "codemirror_mode": {
    "name": "ipython",
    "version": 3
   },
   "file_extension": ".py",
   "mimetype": "text/x-python",
   "name": "python",
   "nbconvert_exporter": "python",
   "pygments_lexer": "ipython3",
   "version": "3.7.4"
  }
 },
 "nbformat": 4,
 "nbformat_minor": 2
}
