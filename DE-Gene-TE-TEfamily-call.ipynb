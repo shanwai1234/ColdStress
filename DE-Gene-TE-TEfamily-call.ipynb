{
 "cells": [
  {
   "cell_type": "code",
   "execution_count": 2,
   "metadata": {},
   "outputs": [],
   "source": [
    "library(ggplot2)\n",
    "library(\"DESeq2\")\n",
    "library(dplyr)\n",
    "library(tidyr)\n",
    "library(tibble)\n",
    "library(ggpubr)\n",
    "library(ggsci)\n",
    "require(\"ggrepel\")"
   ]
  },
  {
   "cell_type": "code",
   "execution_count": 27,
   "metadata": {},
   "outputs": [],
   "source": [
    "# function for calling DE features\n",
    "\n",
    "callDE = function(mycount, mymeta, mygeno, mytype){\n",
    "    # read meta data sheet\n",
    "    meta = read.table(mymeta,sep='\\t',head=T)\n",
    "    meta$Replicate <- as.factor(meta$Replicate)\n",
    "    meta$Treatment <- relevel(meta$Treatment, ref='control')\n",
    "    # read actual counts\n",
    "    count = read.table(mycount,sep='\\t',head=T)\n",
    "    colnames(count)[1] = \"Feature\"\n",
    "    n = count %>% column_to_rownames(var=\"Feature\")\n",
    "    sample = colnames(n)\n",
    "    # defining my genotype and my data type\n",
    "    genotype = mygeno\n",
    "    type = mytype\n",
    "    # organizing meta data sheet\n",
    "    submeta = meta %>% filter(SampleID %in% sample)\n",
    "    mycontrol = meta %>% filter(Treatment == 'control' & Genotype == genotype) %>% pull(SampleID)\n",
    "    mycold = meta %>% filter(Treatment == 'cold' & Genotype == genotype) %>% pull(SampleID)\n",
    "    myheat = meta %>% filter(Treatment == 'heat' & Genotype == genotype) %>% pull(SampleID)\n",
    "    \n",
    "    # run DESeq2 for CPM calculation\n",
    "    dds = DESeqDataSetFromMatrix(countData=n, colData = submeta, design=~Treatment)\n",
    "    dds1 = estimateSizeFactors(dds)\n",
    "    fpmcount = as.data.frame(fpm(dds1, robust = TRUE))\n",
    "    totalfpm = fpmcount %>% rownames_to_column(var=\"Feature\")\n",
    "    \n",
    "    write.table(file=paste(genotype,\"CPM\",type,\"total-Aug.txt\",sep='-'),totalfpm,row.names=FALSE)\n",
    "    \n",
    "    coldfpm = fpmcount %>% rownames_to_column(var=\"Feature\") %>% select(Feature, mycontrol, mycold) %>% column_to_rownames(var=\"Feature\")\n",
    "    heatfpm = fpmcount %>% rownames_to_column(var=\"Feature\") %>% select(Feature, mycontrol, myheat) %>% column_to_rownames(var=\"Feature\")\n",
    "    \n",
    "    # feature in stress+control with CPM > 1 in at least 5 libraries\n",
    "    expfpmcold = coldfpm[rowMeans(coldfpm) > 0.5,]\n",
    "    expfpmheat = heatfpm[rowMeans(heatfpm) > 0.5,]\n",
    "\n",
    "    write.table(file=paste(genotype,\"CPM\",type,\"expressed-cold-Aug-1-2.txt\", sep=\"-\"),expfpmcold)\n",
    "    write.table(file=paste(genotype,\"CPM\",type,\"expressed-heat-Aug-1-2.txt\", sep=\"-\"),expfpmheat)\n",
    "    \n",
    "    # run DESeq2 for differential expressed features\n",
    "    dds2 = DESeq(dds)\n",
    "    rescold = as.data.frame(results(dds2, alpha = 0.05, name=\"Treatment_cold_vs_control\"))\n",
    "    resheat = as.data.frame(results(dds2, alpha = 0.05, name=\"Treatment_heat_vs_control\"))\n",
    "    print (head(rescold))\n",
    "    totalrescold = rescold %>% rownames_to_column(var=\"Feature\")\n",
    "    totalresheat = resheat %>% rownames_to_column(var=\"Feature\")\n",
    "    write.table(file=paste(genotype,\"DE\",type,\"total-cold-Aug-1-2.txt\", sep=\"-\"),totalrescold,row.names = FALSE)\n",
    "    write.table(file=paste(genotype,\"DE\",type,\"total-heat-Aug-1-2.txt\", sep=\"-\"),totalresheat,row.names = FALSE)\n",
    "    \n",
    "    # writing DE results in expressed features\n",
    "    exprescold = rescold %>% rownames_to_column(var=\"Feature\") %>% filter(Feature %in% rownames(expfpmcold))\n",
    "    expresheat = resheat %>% rownames_to_column(var=\"Feature\") %>% filter(Feature %in% rownames(expfpmheat))\n",
    "    write.table(file=paste(genotype,\"DE\",type,\"expressed-cold-Aug-1-2.txt\", sep=\"-\"),exprescold,row.names = FALSE)\n",
    "    write.table(file=paste(genotype,\"DE\",type,\"expressed-heat-Aug-1-2.txt\", sep=\"-\"),expresheat,row.names = FALSE)  \n",
    "}"
   ]
  },
  {
   "cell_type": "code",
   "execution_count": 28,
   "metadata": {},
   "outputs": [
    {
     "name": "stderr",
     "output_type": "stream",
     "text": [
      "estimating size factors\n",
      "\n",
      "estimating dispersions\n",
      "\n",
      "gene-wise dispersion estimates\n",
      "\n",
      "mean-dispersion relationship\n",
      "\n",
      "final dispersion estimates\n",
      "\n",
      "fitting model and testing\n",
      "\n"
     ]
    },
    {
     "name": "stdout",
     "output_type": "stream",
     "text": [
      "                baseMean log2FoldChange lfcSE stat pvalue padj\n",
      "ENSRNA049437471        0             NA    NA   NA     NA   NA\n",
      "ENSRNA049437473        0             NA    NA   NA     NA   NA\n",
      "ENSRNA049437518        0             NA    NA   NA     NA   NA\n",
      "ENSRNA049437607        0             NA    NA   NA     NA   NA\n",
      "ENSRNA049437614        0             NA    NA   NA     NA   NA\n",
      "ENSRNA049437658        0             NA    NA   NA     NA   NA\n"
     ]
    },
    {
     "name": "stderr",
     "output_type": "stream",
     "text": [
      "estimating size factors\n",
      "\n",
      "estimating dispersions\n",
      "\n",
      "gene-wise dispersion estimates\n",
      "\n",
      "mean-dispersion relationship\n",
      "\n",
      "final dispersion estimates\n",
      "\n",
      "fitting model and testing\n",
      "\n"
     ]
    },
    {
     "name": "stdout",
     "output_type": "stream",
     "text": [
      "                   baseMean log2FoldChange     lfcSE       stat       pvalue\n",
      "Zm00004b000001 498.21931992     -0.7878755 0.1691195 -4.6586901 3.182279e-06\n",
      "Zm00004b000002  23.37722304     -0.2309626 0.3513922 -0.6572785 5.110018e-01\n",
      "Zm00004b000003   0.00000000             NA        NA         NA           NA\n",
      "Zm00004b000004   0.08093161      0.8324472 3.7620085  0.2212773 8.248765e-01\n",
      "Zm00004b000005   0.00000000             NA        NA         NA           NA\n",
      "Zm00004b000006   0.00000000             NA        NA         NA           NA\n",
      "                       padj\n",
      "Zm00004b000001 1.387125e-05\n",
      "Zm00004b000002 6.115691e-01\n",
      "Zm00004b000003           NA\n",
      "Zm00004b000004           NA\n",
      "Zm00004b000005           NA\n",
      "Zm00004b000006           NA\n"
     ]
    },
    {
     "name": "stderr",
     "output_type": "stream",
     "text": [
      "estimating size factors\n",
      "\n",
      "estimating dispersions\n",
      "\n",
      "gene-wise dispersion estimates\n",
      "\n",
      "mean-dispersion relationship\n",
      "\n",
      "final dispersion estimates\n",
      "\n",
      "fitting model and testing\n",
      "\n"
     ]
    },
    {
     "name": "stdout",
     "output_type": "stream",
     "text": [
      "                   baseMean log2FoldChange     lfcSE       stat       pvalue\n",
      "Zm00014a000002    0.0000000             NA        NA         NA           NA\n",
      "Zm00014a000003    0.0000000             NA        NA         NA           NA\n",
      "Zm00014a000004  754.8919942     -0.0213242 0.1430015 -0.1491188 8.814599e-01\n",
      "Zm00014a000005 1053.6548629     -1.0420538 0.2191448 -4.7550920 1.983561e-06\n",
      "Zm00014a000006    0.0000000             NA        NA         NA           NA\n",
      "Zm00014a000007    0.5796618      0.6672738 2.3000011  0.2901189 7.717253e-01\n",
      "                       padj\n",
      "Zm00014a000002           NA\n",
      "Zm00014a000003           NA\n",
      "Zm00014a000004 9.200458e-01\n",
      "Zm00014a000005 1.214411e-05\n",
      "Zm00014a000006           NA\n",
      "Zm00014a000007           NA\n"
     ]
    },
    {
     "name": "stderr",
     "output_type": "stream",
     "text": [
      "estimating size factors\n",
      "\n",
      "estimating dispersions\n",
      "\n",
      "gene-wise dispersion estimates\n",
      "\n",
      "mean-dispersion relationship\n",
      "\n",
      "final dispersion estimates\n",
      "\n",
      "fitting model and testing\n",
      "\n"
     ]
    },
    {
     "name": "stdout",
     "output_type": "stream",
     "text": [
      "                       baseMean log2FoldChange     lfcSE       stat    pvalue\n",
      "DHH00001Zm00001d00001  0.000000             NA        NA         NA        NA\n",
      "DHH00001Zm00001d00005  0.000000             NA        NA         NA        NA\n",
      "DHH00001Zm00001d00007  0.000000             NA        NA         NA        NA\n",
      "DHH00001Zm00001d00017  0.188434       1.726284 3.8697699  0.4460948 0.6555288\n",
      "DHH00001Zm00001d00020 14.431422      -2.376333 0.7792456 -3.0495297 0.0022920\n",
      "DHH00001Zm00001d00021  3.558239      -1.023748 1.1264957 -0.9087899 0.3634610\n",
      "                            padj\n",
      "DHH00001Zm00001d00001         NA\n",
      "DHH00001Zm00001d00005         NA\n",
      "DHH00001Zm00001d00007         NA\n",
      "DHH00001Zm00001d00017         NA\n",
      "DHH00001Zm00001d00020 0.01846016\n",
      "DHH00001Zm00001d00021 0.60150396\n"
     ]
    },
    {
     "name": "stderr",
     "output_type": "stream",
     "text": [
      "estimating size factors\n",
      "\n",
      "estimating dispersions\n",
      "\n",
      "gene-wise dispersion estimates\n",
      "\n",
      "mean-dispersion relationship\n",
      "\n",
      "final dispersion estimates\n",
      "\n",
      "fitting model and testing\n",
      "\n"
     ]
    },
    {
     "name": "stdout",
     "output_type": "stream",
     "text": [
      "                        baseMean log2FoldChange     lfcSE      stat\n",
      "DHH00001Zm00004b00002  0.0000000             NA        NA        NA\n",
      "DHH00001Zm00004b00005  9.8402730      3.6754650 0.7663550 4.7960347\n",
      "DHH00001Zm00004b00006 29.9970983      1.5016623 0.4108798 3.6547482\n",
      "DHH00001Zm00004b00010  0.0000000             NA        NA        NA\n",
      "DHH00001Zm00004b00011  0.0000000             NA        NA        NA\n",
      "DHH00001Zm00004b00012  0.2649498      0.7085974 3.7498518 0.1889668\n",
      "                            pvalue         padj\n",
      "DHH00001Zm00004b00002           NA           NA\n",
      "DHH00001Zm00004b00005 1.618373e-06 2.744339e-05\n",
      "DHH00001Zm00004b00006 2.574345e-04 2.365707e-03\n",
      "DHH00001Zm00004b00010           NA           NA\n",
      "DHH00001Zm00004b00011           NA           NA\n",
      "DHH00001Zm00004b00012 8.501189e-01           NA\n"
     ]
    },
    {
     "name": "stderr",
     "output_type": "stream",
     "text": [
      "estimating size factors\n",
      "\n",
      "estimating dispersions\n",
      "\n",
      "gene-wise dispersion estimates\n",
      "\n",
      "mean-dispersion relationship\n",
      "\n",
      "final dispersion estimates\n",
      "\n",
      "fitting model and testing\n",
      "\n"
     ]
    },
    {
     "name": "stdout",
     "output_type": "stream",
     "text": [
      "                       baseMean log2FoldChange    lfcSE      stat    pvalue\n",
      "DHH00001Zm00014a00001 0.0000000             NA       NA        NA        NA\n",
      "DHH00001Zm00014a00005 0.0000000             NA       NA        NA        NA\n",
      "DHH00001Zm00014a00008 0.0000000             NA       NA        NA        NA\n",
      "DHH00001Zm00014a00011 0.0000000             NA       NA        NA        NA\n",
      "DHH00001Zm00014a00012 0.4815539          2.501 3.110899 0.8039477 0.4214272\n",
      "DHH00001Zm00014a00013 0.0000000             NA       NA        NA        NA\n",
      "                      padj\n",
      "DHH00001Zm00014a00001   NA\n",
      "DHH00001Zm00014a00005   NA\n",
      "DHH00001Zm00014a00008   NA\n",
      "DHH00001Zm00014a00011   NA\n",
      "DHH00001Zm00014a00012   NA\n",
      "DHH00001Zm00014a00013   NA\n"
     ]
    },
    {
     "name": "stderr",
     "output_type": "stream",
     "text": [
      "estimating size factors\n",
      "\n",
      "estimating dispersions\n",
      "\n",
      "gene-wise dispersion estimates\n",
      "\n",
      "mean-dispersion relationship\n",
      "\n",
      "final dispersion estimates\n",
      "\n",
      "fitting model and testing\n",
      "\n"
     ]
    },
    {
     "name": "stdout",
     "output_type": "stream",
     "text": [
      "            baseMean log2FoldChange     lfcSE       stat       pvalue\n",
      "DHH00001  3437.87048     -0.1011624 0.2456907 -0.4117468 0.6805250136\n",
      "DHH00002 31843.79111     -0.2913776 0.1996505 -1.4594387 0.1444443974\n",
      "DHH00003  2290.66993      0.3117595 0.3498487  0.8911268 0.3728611688\n",
      "DHH00004   350.59275     -0.3289854 0.4288207 -0.7671864 0.4429706805\n",
      "DHH00005   287.86972     -0.7641923 0.2203495 -3.4680917 0.0005241684\n",
      "DHH00006    11.79249      1.6825981 0.4877676  3.4495894 0.0005614398\n",
      "                padj\n",
      "DHH00001 0.822686921\n",
      "DHH00002 0.311465081\n",
      "DHH00003 0.570022292\n",
      "DHH00004 0.632306717\n",
      "DHH00005 0.005154625\n",
      "DHH00006 0.005426859\n"
     ]
    },
    {
     "name": "stderr",
     "output_type": "stream",
     "text": [
      "estimating size factors\n",
      "\n",
      "estimating dispersions\n",
      "\n",
      "gene-wise dispersion estimates\n",
      "\n",
      "mean-dispersion relationship\n",
      "\n",
      "final dispersion estimates\n",
      "\n",
      "fitting model and testing\n",
      "\n"
     ]
    },
    {
     "name": "stdout",
     "output_type": "stream",
     "text": [
      "            baseMean log2FoldChange     lfcSE       stat       pvalue\n",
      "DHH00001 30534.44329     0.19635876 0.2905094  0.6759119 4.990966e-01\n",
      "DHH00002 55323.66416    -0.01552073 0.1307998 -0.1186601 9.055446e-01\n",
      "DHH00003  9163.80506     0.24535193 0.3342579  0.7340199 4.629366e-01\n",
      "DHH00004   278.40009    -0.19906496 0.1593321 -1.2493713 2.115293e-01\n",
      "DHH00005   886.44890    -1.26504382 0.1654892 -7.6442681 2.101372e-14\n",
      "DHH00006    80.33615     1.01559143 0.2745591  3.6989900 2.164591e-04\n",
      "                 padj\n",
      "DHH00001 7.110613e-01\n",
      "DHH00002 9.538232e-01\n",
      "DHH00003 6.823411e-01\n",
      "DHH00004 4.326516e-01\n",
      "DHH00005 1.400392e-12\n",
      "DHH00006 1.883996e-03\n"
     ]
    },
    {
     "name": "stderr",
     "output_type": "stream",
     "text": [
      "estimating size factors\n",
      "\n",
      "estimating dispersions\n",
      "\n",
      "gene-wise dispersion estimates\n",
      "\n",
      "mean-dispersion relationship\n",
      "\n",
      "final dispersion estimates\n",
      "\n",
      "fitting model and testing\n",
      "\n"
     ]
    },
    {
     "name": "stdout",
     "output_type": "stream",
     "text": [
      "           baseMean log2FoldChange     lfcSE       stat       pvalue\n",
      "DHH00001 33449.2916      0.9798498 0.4361380  2.2466507 2.466236e-02\n",
      "DHH00002 82471.2082      0.3689745 0.1861022  1.9826442 4.740719e-02\n",
      "DHH00003  4908.4961      0.9958033 0.3170626  3.1407146 1.685362e-03\n",
      "DHH00004   620.1282     -0.6223862 0.2515487 -2.4742176 1.335283e-02\n",
      "DHH00005   941.1947      0.1017107 0.2445056  0.4159853 6.774207e-01\n",
      "DHH00006    26.1315      2.0360050 0.5115132  3.9803571 6.881182e-05\n",
      "                 padj\n",
      "DHH00001 0.0951142085\n",
      "DHH00002 0.1552757081\n",
      "DHH00003 0.0117017428\n",
      "DHH00004 0.0603548069\n",
      "DHH00005 0.8372823969\n",
      "DHH00006 0.0007756345\n"
     ]
    }
   ],
   "source": [
    "# Gene DESeq2\n",
    "callDE(\"../ca20a3-RawReads/RefineVersion/mergedtable/ca20a3-B73-Generaw+TEelement.txt\",\"../ca20a3-RawReads/ca20a3.tsv\",\"B73\",\"Gene\")\n",
    "callDE(\"../ca20a3-RawReads/RefineVersion/mergedtable/ca20a3-W22-Generaw+TEelement.txt\",\"../ca20a3-RawReads/ca20a3.tsv\",\"W22\",\"Gene\")\n",
    "callDE(\"../ca20a3-RawReads/RefineVersion/mergedtable/ca20a3-Mo17-Generaw+TEelement.txt\",\"../ca20a3-RawReads/ca20a3.tsv\",\"Mo17\",\"Gene\")\n",
    "\n",
    "# TE element DESeq2\n",
    "callDE(\"../ca20a3-RawReads/RefineVersion/mergedtable/ca20a3-B73-TEelementraw+Gene.txt\",\"../ca20a3-RawReads/ca20a3.tsv\",\"B73\",\"TEelement\")\n",
    "callDE(\"../ca20a3-RawReads/RefineVersion/mergedtable//ca20a3-W22-TEelementraw+Gene.txt\",\"../ca20a3-RawReads/ca20a3.tsv\",\"W22\",\"TEelement\")\n",
    "callDE(\"../ca20a3-RawReads/RefineVersion/mergedtable//ca20a3-Mo17-TEelementraw+Gene.txt\",\"../ca20a3-RawReads/ca20a3.tsv\",\"Mo17\",\"TEelement\")\n",
    "\n",
    "# TE family DESeq2\n",
    "callDE(\"../ca20a3-RawReads/RefineVersion/mergedtable/ca20a3-B73-TEfamilyraw-Multiple+Gene.txt\",\"../ca20a3-RawReads/ca20a3.tsv\",\"B73\",\"TEfamily\")\n",
    "callDE(\"../ca20a3-RawReads/RefineVersion/mergedtable//ca20a3-W22-TEfamilyraw-Multiple+Gene.txt\",\"../ca20a3-RawReads/ca20a3.tsv\",\"W22\",\"TEfamily\")\n",
    "callDE(\"../ca20a3-RawReads/RefineVersion/mergedtable//ca20a3-Mo17-TEfamilyraw-Multiple+Gene.txt\",\"../ca20a3-RawReads/ca20a3.tsv\",\"Mo17\",\"TEfamily\")"
   ]
  },
  {
   "cell_type": "code",
   "execution_count": 179,
   "metadata": {},
   "outputs": [
    {
     "data": {
      "image/png": "[encoded data removed]",
      "text/plain": [
       "plot without title"
      ]
     },
     "metadata": {
      "image/png": {
       "height": 360,
       "width": 360
      },
      "text/plain": {
       "height": 360,
       "width": 360
      }
     },
     "output_type": "display_data"
    }
   ],
   "source": [
    "require(\"ggrepel\")\n",
    "myc = pal_nejm()(3)\n",
    "palette=myc[1:3]\n",
    "options(repr.plot.width=6, repr.plot.height=6)\n",
    "p1 = ggplot(newdata, aes(x=X1,y=X2)) +\n",
    "    geom_text_repel(aes(x=X1,y=X2,label=SampleID), size=4.5) +\n",
    "    geom_point(aes(color=Treatment,shape=Replicate), size=4) +\n",
    "    scale_x_continuous(name = 'tSNE-1') +\n",
    "    scale_y_continuous(name = 'tSNE-2') +\n",
    "    scale_color_manual(values=palette)+\n",
    "    theme_bw(base_size = 16) + ggtitle(\"W22 Gene\") + \n",
    "    theme(panel.grid.major=element_blank(),legend.position =\"none\",plot.title = element_text(hjust = 0.5))\n",
    "p1"
   ]
  },
  {
   "cell_type": "code",
   "execution_count": 29,
   "metadata": {},
   "outputs": [],
   "source": [
    "# using PCA methods for clustering \n",
    "myc = pal_nejm()(3)\n",
    "palette=c(myc[2],myc[3],myc[1])\n",
    "count = read.table(\"CPMvalue/Mo17-CPM-TEelement-total-Aug.txt\",sep=' ',head=T)\n",
    "feature = count %>% column_to_rownames(var=\"Feature\")\n",
    "exptotal = feature[rowMeans(feature) > 1,]\n",
    "\n",
    "fit = prcomp(asinh(exptotal))\n",
    "mydata = data.frame(fit$rotation)\n",
    "\n",
    "meta = read.table(\"../ca20a3-RawReads/ca20a3.tsv\",sep='\\t',head=T)\n",
    "newdata = mydata %>% rownames_to_column(var=\"SampleID\") %>% left_join(meta, by=\"SampleID\")\n",
    "newdata$Replicate = as.factor(newdata$Replicate)\n",
    "\n",
    "imp = summary(fit)$importance\n",
    "#\n",
    "xlab = sprintf(\"PC1 (%.01f%%)\", imp[2,1]*100)\n",
    "ylab = sprintf(\"PC2 (%.01f%%)\", imp[2,2]*100)\n",
    "options(repr.plot.width=6, repr.plot.height=6)\n",
    "p9 = ggplot(newdata, aes(x=PC1,y=PC2)) +\n",
    "    geom_text_repel(aes(x=PC1,y=PC2,label=SampleID), size=4.5) +\n",
    "    geom_point(aes(color=Treatment,shape=Replicate), size=4) +\n",
    "    scale_x_continuous(name = xlab) +\n",
    "    scale_y_continuous(name = ylab) +\n",
    "    scale_color_manual(values=palette)+\n",
    "    theme_bw(base_size = 16) + ggtitle(\"Mo17 TE element\") + \n",
    "    theme(panel.grid.major=element_blank(),legend.position = \"none\",plot.title = element_text(hjust = 0.5))"
   ]
  },
  {
   "cell_type": "code",
   "execution_count": 31,
   "metadata": {},
   "outputs": [
    {
     "data": {
      "text/html": [
       "<strong>png:</strong> 2"
      ],
      "text/latex": [
       "\\textbf{png:} 2"
      ],
      "text/markdown": [
       "**png:** 2"
      ],
      "text/plain": [
       "png \n",
       "  2 "
      ]
     },
     "metadata": {},
     "output_type": "display_data"
    },
    {
     "data": {
      "text/html": [
       "<strong>png:</strong> 2"
      ],
      "text/latex": [
       "\\textbf{png:} 2"
      ],
      "text/markdown": [
       "**png:** 2"
      ],
      "text/plain": [
       "png \n",
       "  2 "
      ]
     },
     "metadata": {},
     "output_type": "display_data"
    },
    {
     "data": {
      "text/html": [
       "<strong>png:</strong> 2"
      ],
      "text/latex": [
       "\\textbf{png:} 2"
      ],
      "text/markdown": [
       "**png:** 2"
      ],
      "text/plain": [
       "png \n",
       "  2 "
      ]
     },
     "metadata": {},
     "output_type": "display_data"
    }
   ],
   "source": [
    "options(repr.plot.width=18, repr.plot.height=6)\n",
    "svg(\"B73-sample-cluster.svg\",width=18,height=6)\n",
    "ggarrange(p1,p2,p3,nrow=1)\n",
    "dev.off()\n",
    "svg(\"W22-sample-cluster.svg\",width=18,height=6)\n",
    "ggarrange(p4,p5,p6,nrow=1)\n",
    "dev.off()\n",
    "svg(\"Mo17-sample-cluster.svg\",width=18,height=6)\n",
    "ggarrange(p7,p8,p9,nrow=1)\n",
    "dev.off()\n",
    "#svg(\"legend.svg\")\n",
    "#dev.off()"
   ]
  },
  {
   "cell_type": "code",
   "execution_count": null,
   "metadata": {},
   "outputs": [
    {
     "name": "stdout",
     "output_type": "stream",
     "text": [
      "                      BC1       BC2       BC3       BC4       BC5       BH1\n",
      "ENSRNA049459267  3.905942 10.831905 16.608343  29.98391  51.69353 17.716612\n",
      "ENSRNA049462250  2.174062  5.299061  9.619489  16.94091  33.98591  8.107602\n",
      "ENSRNA049462318 12.970676 30.586494 52.494927  80.35687 197.16594 50.747583\n",
      "ENSRNA049462348  6.595884 16.520603 31.881736  56.31977  97.27277 36.994688\n",
      "ENSRNA049465110 17.871528 39.197469 85.554560 140.67450 303.49103 76.451685\n",
      "ENSRNA049469775 53.246100 34.093226 17.589923  35.28107  56.37850 10.990305\n",
      "                      BH2        BH3       BH4        BH5       BN1       BN2\n",
      "ENSRNA049459267  43.67886  20.135733  4.121084  31.827440  2.524762 16.159037\n",
      "ENSRNA049462250  21.22802  10.196612  2.993950  23.217586  1.150169  6.768014\n",
      "ENSRNA049462318 113.47699  60.510195 12.328029 116.281408  8.920827 46.598908\n",
      "ENSRNA049462348  69.06444 159.643919  7.608155  66.508709  5.442265 90.931017\n",
      "ENSRNA049465110 168.45464 102.172108 18.668159 154.832274 14.559462 77.654052\n",
      "ENSRNA049469775  15.26070   7.415718  5.706116   7.690825 47.493583 57.382394\n",
      "                      BN3       BN5       MC1        MC2       MC3       MC4\n",
      "ENSRNA049459267 10.782153  7.622688  27.03886  29.249739  73.61807  38.32208\n",
      "ENSRNA049462250  7.727981  4.739323  16.32224  21.258567  31.29916  20.54803\n",
      "ENSRNA049462318 34.752776 22.105795  86.39245  84.573238 186.87665 108.13402\n",
      "ENSRNA049462348 20.083495 13.323133  58.47428  52.864677 100.09609  65.18863\n",
      "ENSRNA049465110 54.142142 36.091770 143.05315 125.809735 258.81115 158.99040\n",
      "ENSRNA049469775 63.674861 24.889733  13.84917   9.527936  17.29489  15.61650\n",
      "                      MC5        MH1       MH2       MH3       MH4        MH5\n",
      "ENSRNA049459267  23.58744  25.936322 16.151282  8.267271  2.836403 0.07965897\n",
      "ENSRNA049462250  14.41664  17.131150  9.768141  4.619946  1.347292 0.00000000\n",
      "ENSRNA049462318  69.63013  81.642511 54.788631 28.205983  8.048294 0.23897692\n",
      "ENSRNA049462348  48.49578  46.960916 31.867350 15.480870  4.219150 0.15931795\n",
      "ENSRNA049465110 111.55916 145.974174 78.822126 44.375792 12.621994 0.27880641\n",
      "ENSRNA049469775  22.30428   4.192939  6.866713  4.255213  4.750975 4.02277815\n",
      "                     MN1       MN2       MN3        MN4       MN5        WC1\n",
      "ENSRNA049459267  9.75280 19.696933 11.001614  0.3940997  29.71912  27.568175\n",
      "ENSRNA049462250  5.35246  8.585843  5.211291  0.2627331  12.56122  15.237682\n",
      "ENSRNA049462318 31.60010 54.882054 28.662100  1.4450321  74.95772  78.494112\n",
      "ENSRNA049462348 16.21178 35.395558 18.456656  0.9195659  43.64569  51.026185\n",
      "ENSRNA049465110 44.56952 84.595804 44.151215  2.3208091 115.28106 122.903936\n",
      "ENSRNA049469775 24.39487 21.759219 21.677523 27.5431870  24.30323   9.172684\n",
      "                      WC2       WC3       WC4       WC5       WH1       WH2\n",
      "ENSRNA049459267 18.545936  8.941497  3.489414 12.133516 11.801301  8.437908\n",
      "ENSRNA049462250  9.970934  5.515316  1.938564  4.873714  5.085113  8.152569\n",
      "ENSRNA049462318 56.369011 32.799416 11.179050 35.207504 31.614054 32.814088\n",
      "ENSRNA049462348 36.360671 18.426169  7.075757 23.099372 18.997216 20.666761\n",
      "ENSRNA049465110 78.570957 48.300797 16.574719 50.666315 48.452495 49.812194\n",
      "ENSRNA049469775  7.910274 15.710294 19.514873  9.544356  1.966883  2.486533\n",
      "                      WH3        WH4        WH5      WN1       WN2       WN3\n",
      "ENSRNA049459267  9.748298  28.261622  31.603391 22.69348  8.587617  6.419803\n",
      "ENSRNA049462250  5.388507  17.504834  16.059332 14.87068  6.595644  4.424009\n",
      "ENSRNA049462318 34.731374  90.530726 103.097476 60.73734 31.827302 24.814368\n",
      "ENSRNA049462348 21.456053  57.191367  56.637056 37.97006 21.469043 16.498561\n",
      "ENSRNA049465110 47.957708 134.292812 156.342320 92.98790 49.312399 41.246403\n",
      "ENSRNA049469775  1.812498   2.672494   2.962818 10.11059 16.555509  9.746126\n",
      "                      WN4       WN5\n",
      "ENSRNA049459267 10.640226 12.509694\n",
      "ENSRNA049462250  5.476077  6.956063\n",
      "ENSRNA049462318 32.683170 36.126649\n",
      "ENSRNA049462348 19.651493 20.138924\n",
      "ENSRNA049465110 42.942151 56.574108\n",
      "ENSRNA049469775 11.090790 12.846277\n",
      "[1]    44 11034\n"
     ]
    }
   ],
   "source": [
    "library(pheatmap)\n",
    "\n",
    "meta = read.table(\"../ca20a3-RawReads/ca20a3.tsv\",sep='\\t',head=T)\n",
    "meta$Replicate <- as.factor(meta$Replicate)\n",
    "meta$Treatment <- relevel(meta$Treatment, ref='control')\n",
    "submeta = meta %>% filter(Genotype != \"Oh43\")\n",
    "\n",
    "# read actual counts\n",
    "count = read.table(\"../../ca20a3-Gene-addTEfamilycounts.txt\",sep='\\t',head=T)\n",
    "colnames(count)[1] = \"Feature\"\n",
    "n = count %>% column_to_rownames(var=\"Feature\") %>% select(submeta$SampleID)\n",
    "\n",
    "# run DESeq2 for CPM calculation\n",
    "dds = DESeqDataSetFromMatrix(countData=n, colData = submeta, design=~Treatment)\n",
    "dds1 = estimateSizeFactors(dds)\n",
    "fpmcount = as.data.frame(fpm(dds1, robust = TRUE))\n",
    "\n",
    "#totalfpm = fpmcount %>% rownames_to_column(var=\"Feature\")\n",
    "expfpmtotal = fpmcount[rowMeans(fpmcount) > 1,]\n",
    "print (head(expfpmtotal))\n",
    "#rownames(expfpmtotal) = expfpmtotal[,1]\n",
    "#expfpmtotal = expfpmtotal[,-1]\n",
    "\n",
    "# definee the normalize function\n",
    "norm <- function(x){\n",
    "  (x-min(x))/(max(x)-min(x))\n",
    "}\n",
    "newdata <- apply(expfpmtotal, 1, norm)\n",
    "mycol = submeta %>% select(SampleID, Genotype, Treatment) %>% column_to_rownames(var=\"SampleID\")\n",
    "print (dim(newdata))\n",
    "xx = pheatmap(t(newdata), annotation_col = mycol, show_rownames = F, fontsize = 16)\n",
    "\n",
    "\n",
    "save_pheatmap_pdf <- function(x, filename, width=12, height=12) {\n",
    "   stopifnot(!missing(x))\n",
    "   stopifnot(!missing(filename))\n",
    "#    tiff(filename, units=\"in\", width=width, height=height, res=300)\n",
    "   pdf(filename, width=width, height=height)\n",
    "   grid::grid.newpage()\n",
    "   grid::grid.draw(x$gtable)\n",
    "   dev.off()\n",
    "}\n",
    "save_pheatmap_pdf(xx, \"ca20-Gene-B73ref-CPM1.pdf\")\n"
   ]
  },
  {
   "cell_type": "code",
   "execution_count": 71,
   "metadata": {},
   "outputs": [
    {
     "data": {
      "text/html": [
       "<table>\n",
       "<caption>A data.frame: 2 × 11</caption>\n",
       "<thead>\n",
       "\t<tr><th scope=col>SampleID</th><th scope=col>Tissue</th><th scope=col>Genotype</th><th scope=col>Treatment</th><th scope=col>Replicate</th><th scope=col>MergeID</th><th scope=col>Timepoint</th><th scope=col>Experiment</th><th scope=col>paired</th><th scope=col>spots</th><th scope=col>avgLength</th></tr>\n",
       "\t<tr><th scope=col>&lt;fct&gt;</th><th scope=col>&lt;fct&gt;</th><th scope=col>&lt;fct&gt;</th><th scope=col>&lt;fct&gt;</th><th scope=col>&lt;fct&gt;</th><th scope=col>&lt;fct&gt;</th><th scope=col>&lt;dbl&gt;</th><th scope=col>&lt;fct&gt;</th><th scope=col>&lt;lgl&gt;</th><th scope=col>&lt;int&gt;</th><th scope=col>&lt;int&gt;</th></tr>\n",
       "</thead>\n",
       "<tbody>\n",
       "\t<tr><td>NM100</td><td>leaf</td><td>W22</td><td>Cold   </td><td>7 </td><td>m08</td><td>25</td><td>NM</td><td>TRUE</td><td>26906448</td><td>302</td></tr>\n",
       "\t<tr><td>NM75 </td><td>leaf</td><td>W22</td><td>Control</td><td>11</td><td>m18</td><td>25</td><td>NM</td><td>TRUE</td><td>26596408</td><td>302</td></tr>\n",
       "</tbody>\n",
       "</table>\n"
      ],
      "text/latex": [
       "A data.frame: 2 × 11\n",
       "\\begin{tabular}{lllllllllll}\n",
       " SampleID & Tissue & Genotype & Treatment & Replicate & MergeID & Timepoint & Experiment & paired & spots & avgLength\\\\\n",
       " <fct> & <fct> & <fct> & <fct> & <fct> & <fct> & <dbl> & <fct> & <lgl> & <int> & <int>\\\\\n",
       "\\hline\n",
       "\t NM100 & leaf & W22 & Cold    & 7  & m08 & 25 & NM & TRUE & 26906448 & 302\\\\\n",
       "\t NM75  & leaf & W22 & Control & 11 & m18 & 25 & NM & TRUE & 26596408 & 302\\\\\n",
       "\\end{tabular}\n"
      ],
      "text/markdown": [
       "\n",
       "A data.frame: 2 × 11\n",
       "\n",
       "| SampleID &lt;fct&gt; | Tissue &lt;fct&gt; | Genotype &lt;fct&gt; | Treatment &lt;fct&gt; | Replicate &lt;fct&gt; | MergeID &lt;fct&gt; | Timepoint &lt;dbl&gt; | Experiment &lt;fct&gt; | paired &lt;lgl&gt; | spots &lt;int&gt; | avgLength &lt;int&gt; |\n",
       "|---|---|---|---|---|---|---|---|---|---|---|\n",
       "| NM100 | leaf | W22 | Cold    | 7  | m08 | 25 | NM | TRUE | 26906448 | 302 |\n",
       "| NM75  | leaf | W22 | Control | 11 | m18 | 25 | NM | TRUE | 26596408 | 302 |\n",
       "\n"
      ],
      "text/plain": [
       "  SampleID Tissue Genotype Treatment Replicate MergeID Timepoint Experiment\n",
       "1 NM100    leaf   W22      Cold      7         m08     25        NM        \n",
       "2 NM75     leaf   W22      Control   11        m18     25        NM        \n",
       "  paired spots    avgLength\n",
       "1 TRUE   26906448 302      \n",
       "2 TRUE   26596408 302      "
      ]
     },
     "metadata": {},
     "output_type": "display_data"
    },
    {
     "data": {
      "text/html": [
       "<table>\n",
       "<caption>A data.frame: 6 × 4</caption>\n",
       "<thead>\n",
       "\t<tr><th></th><th scope=col>Feature</th><th scope=col>NM100</th><th scope=col>NM75</th><th scope=col>lg2ratio</th></tr>\n",
       "\t<tr><th></th><th scope=col>&lt;fct&gt;</th><th scope=col>&lt;int&gt;</th><th scope=col>&lt;int&gt;</th><th scope=col>&lt;dbl&gt;</th></tr>\n",
       "</thead>\n",
       "<tbody>\n",
       "\t<tr><th scope=row>1</th><td>ENSRNA049437471</td><td>0</td><td>0</td><td>NaN</td></tr>\n",
       "\t<tr><th scope=row>2</th><td>ENSRNA049437473</td><td>0</td><td>0</td><td>NaN</td></tr>\n",
       "\t<tr><th scope=row>3</th><td>ENSRNA049437518</td><td>0</td><td>0</td><td>NaN</td></tr>\n",
       "\t<tr><th scope=row>4</th><td>ENSRNA049437607</td><td>0</td><td>0</td><td>NaN</td></tr>\n",
       "\t<tr><th scope=row>5</th><td>ENSRNA049437614</td><td>0</td><td>0</td><td>NaN</td></tr>\n",
       "\t<tr><th scope=row>6</th><td>ENSRNA049437658</td><td>0</td><td>0</td><td>NaN</td></tr>\n",
       "</tbody>\n",
       "</table>\n"
      ],
      "text/latex": [
       "A data.frame: 6 × 4\n",
       "\\begin{tabular}{r|llll}\n",
       "  & Feature & NM100 & NM75 & lg2ratio\\\\\n",
       "  & <fct> & <int> & <int> & <dbl>\\\\\n",
       "\\hline\n",
       "\t1 & ENSRNA049437471 & 0 & 0 & NaN\\\\\n",
       "\t2 & ENSRNA049437473 & 0 & 0 & NaN\\\\\n",
       "\t3 & ENSRNA049437518 & 0 & 0 & NaN\\\\\n",
       "\t4 & ENSRNA049437607 & 0 & 0 & NaN\\\\\n",
       "\t5 & ENSRNA049437614 & 0 & 0 & NaN\\\\\n",
       "\t6 & ENSRNA049437658 & 0 & 0 & NaN\\\\\n",
       "\\end{tabular}\n"
      ],
      "text/markdown": [
       "\n",
       "A data.frame: 6 × 4\n",
       "\n",
       "| <!--/--> | Feature &lt;fct&gt; | NM100 &lt;int&gt; | NM75 &lt;int&gt; | lg2ratio &lt;dbl&gt; |\n",
       "|---|---|---|---|---|\n",
       "| 1 | ENSRNA049437471 | 0 | 0 | NaN |\n",
       "| 2 | ENSRNA049437473 | 0 | 0 | NaN |\n",
       "| 3 | ENSRNA049437518 | 0 | 0 | NaN |\n",
       "| 4 | ENSRNA049437607 | 0 | 0 | NaN |\n",
       "| 5 | ENSRNA049437614 | 0 | 0 | NaN |\n",
       "| 6 | ENSRNA049437658 | 0 | 0 | NaN |\n",
       "\n"
      ],
      "text/plain": [
       "  Feature         NM100 NM75 lg2ratio\n",
       "1 ENSRNA049437471 0     0    NaN     \n",
       "2 ENSRNA049437473 0     0    NaN     \n",
       "3 ENSRNA049437518 0     0    NaN     \n",
       "4 ENSRNA049437607 0     0    NaN     \n",
       "5 ENSRNA049437614 0     0    NaN     \n",
       "6 ENSRNA049437658 0     0    NaN     "
      ]
     },
     "metadata": {},
     "output_type": "display_data"
    }
   ],
   "source": [
    "# calling DE gene for rn20a DE gene\n",
    "meta = read.table(\"../../../rn20a/rn20a.tsv\",sep='\\t',head=T)\n",
    "submeta = meta %>% filter(Experiment == 'NM', Timepoint=='25')\n",
    "#meta = read.table(\"../../../rn20a/rn20a-NM/rn20a-Gene-Raw.txt\",sep='\\t',head=T)\n",
    "submeta$Replicate <- as.factor(submeta$Replicate)\n",
    "submeta$Treatment <- relevel(submeta$Treatment, ref='Control')\n",
    "\n",
    "# read actual counts\n",
    "count = read.table(\"../../../rn20a/rn20a-NM/rn20a-Gene-Raw.txt\",sep='\\t',head=T)\n",
    "colnames(count)[1] = \"Feature\"\n",
    "\n",
    "# organizing meta data sheet\n",
    "mymeta = submeta %>% filter(Genotype==\"W22\") \n",
    "mymeta\n",
    "n = count %>% select(Feature, mymeta$SampleID) %>% mutate(lg2ratio = log2(NM100/NM75))\n",
    "head(n)\n",
    "# run DESeq2 for CPM calculation\n",
    "write.table(file=\"W22_cold_rn20a_DEgene.txt\",n)"
   ]
  },
  {
   "cell_type": "code",
   "execution_count": 81,
   "metadata": {},
   "outputs": [],
   "source": [
    "# scale factor \n",
    "\n",
    "count = read.table(\"../ca20a3-RawReads/RefineVersion/ca20a3-Gene-Mo17index-Mo17sample-chromosome.txt\",sep='\\t',head=T)\n",
    "meta = read.table(\"../ca20a3-RawReads/ca20a3.tsv\",sep='\\t',head=T)\n",
    "\n",
    "# read meta data sheet\n",
    "meta$Replicate <- as.factor(meta$Replicate)\n",
    "meta$Treatment <- relevel(meta$Treatment, ref='control')\n",
    "# read actual counts\n",
    "colnames(count)[1] = \"Feature\"\n",
    "n = count %>% column_to_rownames(var=\"Feature\")\n",
    "\n",
    "sample = colnames(n)\n",
    "\n",
    "# organizing meta data sheet\n",
    "submeta = meta %>% filter(SampleID %in% sample)\n",
    "\n",
    "# run DESeq2 for CPM calculation\n",
    "dds = DESeqDataSetFromMatrix(countData=n, colData = submeta, design=~Treatment)\n",
    "dds1 = estimateSizeFactors(dds)\n",
    "\n",
    "write.table(dds1$sizeFactor, file=\"Mo17-size-factor-ca20a3.txt\")"
   ]
  }
 ],
 "metadata": {
  "kernelspec": {
   "display_name": "R 3.6",
   "language": "R",
   "name": "ir36"
  },
  "language_info": {
   "codemirror_mode": "r",
   "file_extension": ".r",
   "mimetype": "text/x-r-source",
   "name": "R",
   "pygments_lexer": "r",
   "version": "3.6.2"
  }
 },
 "nbformat": 4,
 "nbformat_minor": 2
}
