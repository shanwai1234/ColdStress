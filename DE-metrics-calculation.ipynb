{
 "cells": [
  {
   "cell_type": "code",
   "execution_count": 2,
   "metadata": {},
   "outputs": [],
   "source": [
    "library(dplyr)\n",
    "library(tidyr)\n",
    "library(tibble)"
   ]
  },
  {
   "cell_type": "code",
   "execution_count": 5,
   "metadata": {},
   "outputs": [],
   "source": [
    "demetric = function(de){\n",
    "    de_result = read.table(de,head=T,sep=' ')\n",
    "    total = dim(de_result)[1]\n",
    "    up = de_result %>% filter(log2FoldChange > 1 & padj <= 0.05)\n",
    "    down = de_result %>% filter(log2FoldChange < -1 & padj <= 0.05)\n",
    "    remain = total - dim(up)[1] - dim(down)[1]\n",
    "    # upregulated, downregulated, rest of features\n",
    "    flist = list(dim(up)[1],dim(down)[1],remain)\n",
    "    return (flist)\n",
    "}"
   ]
  },
  {
   "cell_type": "code",
   "execution_count": 6,
   "metadata": {},
   "outputs": [],
   "source": [
    "dataorg = function(direct, geno, cold, heat){\n",
    "    colddata = data.frame(cbind(direct, geno, cold))\n",
    "    heatdata = data.frame(cbind(direct, geno, heat))\n",
    "    colnames(colddata)[3] = \"value\"\n",
    "    colnames(heatdata)[3] = \"value\"\n",
    "    colddata$value = as.numeric(as.character(colddata$value))\n",
    "    heatdata$value = as.numeric(as.character(heatdata$value))\n",
    "    colddata$geno = factor(colddata$geno, levels=c(\"B73\",\"W22\",\"Mo17\"))\n",
    "    heatdata$geno = factor(heatdata$geno, levels=c(\"B73\",\"W22\",\"Mo17\"))\n",
    "    colddata$direct = factor(colddata$direct,levels=c(\"Rest\",\"Up\",\"Down\"))\n",
    "    heatdata$direct = factor(heatdata$direct,levels=c(\"Rest\",\"Up\",\"Down\"))\n",
    "    return (list(colddata, heatdata))\n",
    "}"
   ]
  },
  {
   "cell_type": "code",
   "execution_count": 8,
   "metadata": {},
   "outputs": [],
   "source": [
    "library(ggpubr)\n",
    "library(ggplot2)\n",
    "library(RColorBrewer)\n",
    "library('ggrepel')\n",
    "\n",
    "# pie chart function\n",
    "ccolor = brewer.pal(n = 3, name = \"Blues\")\n",
    "hcolor = brewer.pal(n = 3, name = \"YlOrRd\")\n",
    "\n",
    "ccolor = c('#DEEBF7','#3182BD','#9ECAE1')\n",
    "hcolor = c('#FFEDA0','#F03B20','#FEB24C')"
   ]
  },
  {
   "cell_type": "code",
   "execution_count": 16,
   "metadata": {},
   "outputs": [
    {
     "name": "stdout",
     "output_type": "stream",
     "text": [
      "[1] \"###\"\n",
      "[1] \"2173:2171:14543\"\n",
      "[1] \"###\"\n",
      "[1] \"3826:3305:12031\"\n",
      "[1] \"###\"\n",
      "[1] \"1922:2667:13806\"\n",
      "[1] \"###\"\n",
      "[1] \"3808:3819:11345\"\n",
      "[1] \"###\"\n",
      "[1] \"2147:2332:14192\"\n",
      "[1] \"###\"\n",
      "[1] \"4192:3844:10972\"\n"
     ]
    }
   ],
   "source": [
    "cold = c()\n",
    "heat = c()\n",
    "clist = demetric(\"DEvalue/B73-DE-Gene-expressed-cold-Aug.txt\")\n",
    "cold = c(clist[[1]],clist[[2]],clist[[3]])\n",
    "print (\"###\")\n",
    "print (paste(clist[[1]],clist[[2]],clist[[3]],sep=\":\"))\n",
    "hlist = demetric(\"DEvalue/B73-DE-Gene-expressed-heat-Aug.txt\")\n",
    "heat = c(hlist[[1]],hlist[[2]],hlist[[3]])\n",
    "print (\"###\")\n",
    "print (paste(hlist[[1]],hlist[[2]],hlist[[3]],sep=\":\"))\n",
    "clist = demetric(\"DEvalue/W22-DE-Gene-expressed-cold-Aug.txt\")\n",
    "cold = c(cold, clist[[1]],clist[[2]],clist[[3]])\n",
    "print (\"###\")\n",
    "print (paste(clist[[1]],clist[[2]],clist[[3]],sep=\":\"))\n",
    "hlist = demetric(\"DEvalue/W22-DE-Gene-expressed-heat-Aug.txt\")\n",
    "heat = c(heat, hlist[[1]],hlist[[2]],hlist[[3]])\n",
    "print ('###')\n",
    "print (paste(hlist[[1]],hlist[[2]],hlist[[3]],sep=\":\"))\n",
    "clist = demetric(\"DEvalue/Mo17-DE-Gene-expressed-cold-Aug.txt\")\n",
    "cold = c(cold, clist[[1]],clist[[2]],clist[[3]])\n",
    "print (\"###\")\n",
    "print (paste(clist[[1]],clist[[2]],clist[[3]],sep=\":\"))\n",
    "hlist = demetric(\"DEvalue/Mo17-DE-Gene-expressed-heat-Aug.txt\")\n",
    "heat = c(heat, hlist[[1]],hlist[[2]],hlist[[3]])\n",
    "print (\"###\")\n",
    "print (paste(hlist[[1]],hlist[[2]],hlist[[3]],sep=\":\"))"
   ]
  },
  {
   "cell_type": "code",
   "execution_count": 17,
   "metadata": {},
   "outputs": [],
   "source": [
    "direct = rep(c(\"Up\",\"Down\",\"Rest\"),3)\n",
    "geno = c(rep(\"B73\",3),rep(\"W22\",3),rep(\"Mo17\",3))\n",
    "fdata = dataorg(direct, geno, cold, heat)\n",
    "colddata = fdata[[1]]\n",
    "heatdata = fdata[[2]]\n",
    "coldprop = colddata %>% group_by(geno) %>% mutate(proportion=value/sum(value)) %>% mutate(cc_cum = cumsum(value))\n",
    "heatprop = heatdata %>% group_by(geno) %>% mutate(proportion=value/sum(value)) %>% mutate(cc_cum = cumsum(value))"
   ]
  },
  {
   "cell_type": "code",
   "execution_count": 18,
   "metadata": {},
   "outputs": [
    {
     "data": {
      "text/html": [
       "<strong>png:</strong> 2"
      ],
      "text/latex": [
       "\\textbf{png:} 2"
      ],
      "text/markdown": [
       "**png:** 2"
      ],
      "text/plain": [
       "png \n",
       "  2 "
      ]
     },
     "metadata": {},
     "output_type": "display_data"
    },
    {
     "data": {
      "text/html": [
       "<strong>png:</strong> 2"
      ],
      "text/latex": [
       "\\textbf{png:} 2"
      ],
      "text/markdown": [
       "**png:** 2"
      ],
      "text/plain": [
       "png \n",
       "  2 "
      ]
     },
     "metadata": {},
     "output_type": "display_data"
    }
   ],
   "source": [
    "svg(\"cold-Gene.svg\")\n",
    "ggplot(coldprop, aes(x = \"\", y = proportion, fill = direct)) +\n",
    "  geom_bar(width = 1, stat = \"identity\", color = \"black\") +\n",
    "  geom_text(aes(y = proportion, label = value), size=5, color = \"black\")+\n",
    "  coord_polar(\"y\", start = 0)+\n",
    "  scale_fill_manual(values=ccolor)+facet_wrap(~geno,ncol=1)+\n",
    "  theme_void()\n",
    "dev.off()\n",
    "\n",
    "svg(\"heat-Gene.svg\")\n",
    "ggplot(heatprop, aes(x = \"\", y = proportion, fill = direct)) +\n",
    "  geom_bar(width = 1, stat = \"identity\", color = \"black\") +\n",
    "  geom_text(aes(y = proportion, label = value), size=5, color = \"black\")+\n",
    "  coord_polar(\"y\", start = 0)+\n",
    "  scale_fill_manual(values=hcolor)+facet_wrap(~geno,ncol=1)+\n",
    "  theme_void()\n",
    "dev.off()"
   ]
  },
  {
   "cell_type": "code",
   "execution_count": 19,
   "metadata": {},
   "outputs": [
    {
     "name": "stdout",
     "output_type": "stream",
     "text": [
      "[1] \"###\"\n",
      "[1] \"147:117:629\"\n",
      "[1] \"###\"\n",
      "[1] \"359:185:473\"\n",
      "[1] \"###\"\n",
      "[1] \"171:181:751\"\n",
      "[1] \"###\"\n",
      "[1] \"528:291:543\"\n",
      "[1] \"###\"\n",
      "[1] \"176:222:878\"\n",
      "[1] \"###\"\n",
      "[1] \"546:323:631\"\n"
     ]
    }
   ],
   "source": [
    "cold = c()\n",
    "heat = c()\n",
    "clist = demetric(\"DEvalue/B73-DE-TEfamily-expressed-cold-Aug.txt\")\n",
    "cold = c(clist[[1]],clist[[2]],clist[[3]])\n",
    "print (\"###\")\n",
    "print (paste(clist[[1]],clist[[2]],clist[[3]],sep=\":\"))\n",
    "hlist = demetric(\"DEvalue/B73-DE-TEfamily-expressed-heat-Aug.txt\")\n",
    "heat = c(hlist[[1]],hlist[[2]],hlist[[3]])\n",
    "print (\"###\")\n",
    "print (paste(hlist[[1]],hlist[[2]],hlist[[3]],sep=\":\"))\n",
    "clist = demetric(\"DEvalue/W22-DE-TEfamily-expressed-cold-Aug.txt\")\n",
    "cold = c(cold, clist[[1]],clist[[2]],clist[[3]])\n",
    "print (\"###\")\n",
    "print (paste(clist[[1]],clist[[2]],clist[[3]],sep=\":\"))\n",
    "hlist = demetric(\"DEvalue/W22-DE-TEfamily-expressed-heat-Aug.txt\")\n",
    "heat = c(heat, hlist[[1]],hlist[[2]],hlist[[3]])\n",
    "print ('###')\n",
    "print (paste(hlist[[1]],hlist[[2]],hlist[[3]],sep=\":\"))\n",
    "clist = demetric(\"DEvalue/Mo17-DE-TEfamily-expressed-cold-Aug.txt\")\n",
    "cold = c(cold, clist[[1]],clist[[2]],clist[[3]])\n",
    "print (\"###\")\n",
    "print (paste(clist[[1]],clist[[2]],clist[[3]],sep=\":\"))\n",
    "hlist = demetric(\"DEvalue/Mo17-DE-TEfamily-expressed-heat-Aug.txt\")\n",
    "heat = c(heat, hlist[[1]],hlist[[2]],hlist[[3]])\n",
    "print (\"###\")\n",
    "print (paste(hlist[[1]],hlist[[2]],hlist[[3]],sep=\":\"))"
   ]
  },
  {
   "cell_type": "code",
   "execution_count": 20,
   "metadata": {},
   "outputs": [
    {
     "data": {
      "text/html": [
       "<strong>png:</strong> 2"
      ],
      "text/latex": [
       "\\textbf{png:} 2"
      ],
      "text/markdown": [
       "**png:** 2"
      ],
      "text/plain": [
       "png \n",
       "  2 "
      ]
     },
     "metadata": {},
     "output_type": "display_data"
    },
    {
     "data": {
      "text/html": [
       "<strong>png:</strong> 2"
      ],
      "text/latex": [
       "\\textbf{png:} 2"
      ],
      "text/markdown": [
       "**png:** 2"
      ],
      "text/plain": [
       "png \n",
       "  2 "
      ]
     },
     "metadata": {},
     "output_type": "display_data"
    }
   ],
   "source": [
    "direct = rep(c(\"Up\",\"Down\",\"Rest\"),3)\n",
    "geno = c(rep(\"B73\",3),rep(\"W22\",3),rep(\"Mo17\",3))\n",
    "fdata = dataorg(direct, geno, cold, heat)\n",
    "colddata = fdata[[1]]\n",
    "heatdata = fdata[[2]]\n",
    "coldprop = colddata %>% group_by(geno) %>% mutate(proportion=value/sum(value)) %>% mutate(cc_cum = cumsum(value))\n",
    "heatprop = heatdata %>% group_by(geno) %>% mutate(proportion=value/sum(value)) %>% mutate(cc_cum = cumsum(value))\n",
    "\n",
    "svg(\"cold-TEfamily.svg\")\n",
    "ggplot(coldprop, aes(x = \"\", y = proportion, fill = direct)) +\n",
    "  geom_bar(width = 1, stat = \"identity\", color = \"black\") +\n",
    "  geom_text(aes(y = proportion, label = value), size=5, color = \"black\")+\n",
    "  coord_polar(\"y\", start = 0)+\n",
    "  scale_fill_manual(values=ccolor)+facet_wrap(~geno,ncol=1)+\n",
    "  theme_void()\n",
    "dev.off()\n",
    "\n",
    "svg(\"heat-TEfamily.svg\")\n",
    "ggplot(heatprop, aes(x = \"\", y = proportion, fill = direct)) +\n",
    "  geom_bar(width = 1, stat = \"identity\", color = \"black\") +\n",
    "  geom_text(aes(y = proportion, label = value), size=5, color = \"black\")+\n",
    "  coord_polar(\"y\", start = 0)+\n",
    "  scale_fill_manual(values=hcolor)+facet_wrap(~geno,ncol=1)+\n",
    "  theme_void()\n",
    "dev.off()"
   ]
  },
  {
   "cell_type": "code",
   "execution_count": 21,
   "metadata": {},
   "outputs": [
    {
     "name": "stdout",
     "output_type": "stream",
     "text": [
      "[1] \"###\"\n",
      "[1] \"219:141:680\"\n",
      "[1] \"###\"\n",
      "[1] \"507:154:618\"\n",
      "[1] \"###\"\n",
      "[1] \"307:265:1018\"\n",
      "[1] \"###\"\n",
      "[1] \"906:394:768\"\n",
      "[1] \"###\"\n",
      "[1] \"340:300:1120\"\n",
      "[1] \"###\"\n",
      "[1] \"801:432:801\"\n"
     ]
    }
   ],
   "source": [
    "cold = c()\n",
    "heat = c()\n",
    "clist = demetric(\"DEvalue/B73-DE-TEelement-expressed-cold-Aug.txt\")\n",
    "cold = c(clist[[1]],clist[[2]],clist[[3]])\n",
    "print (\"###\")\n",
    "print (paste(clist[[1]],clist[[2]],clist[[3]],sep=\":\"))\n",
    "hlist = demetric(\"DEvalue/B73-DE-TEelement-expressed-heat-Aug.txt\")\n",
    "heat = c(hlist[[1]],hlist[[2]],hlist[[3]])\n",
    "print (\"###\")\n",
    "print (paste(hlist[[1]],hlist[[2]],hlist[[3]],sep=\":\"))\n",
    "clist = demetric(\"DEvalue/W22-DE-TEelement-expressed-cold-Aug.txt\")\n",
    "cold = c(cold, clist[[1]],clist[[2]],clist[[3]])\n",
    "print (\"###\")\n",
    "print (paste(clist[[1]],clist[[2]],clist[[3]],sep=\":\"))\n",
    "hlist = demetric(\"DEvalue/W22-DE-TEelement-expressed-heat-Aug.txt\")\n",
    "heat = c(heat, hlist[[1]],hlist[[2]],hlist[[3]])\n",
    "print ('###')\n",
    "print (paste(hlist[[1]],hlist[[2]],hlist[[3]],sep=\":\"))\n",
    "clist = demetric(\"DEvalue/Mo17-DE-TEelement-expressed-cold-Aug.txt\")\n",
    "cold = c(cold, clist[[1]],clist[[2]],clist[[3]])\n",
    "print (\"###\")\n",
    "print (paste(clist[[1]],clist[[2]],clist[[3]],sep=\":\"))\n",
    "hlist = demetric(\"DEvalue/Mo17-DE-TEelement-expressed-heat-Aug.txt\")\n",
    "heat = c(heat, hlist[[1]],hlist[[2]],hlist[[3]])\n",
    "print (\"###\")\n",
    "print (paste(hlist[[1]],hlist[[2]],hlist[[3]],sep=\":\"))"
   ]
  },
  {
   "cell_type": "code",
   "execution_count": 22,
   "metadata": {},
   "outputs": [
    {
     "data": {
      "text/html": [
       "<strong>png:</strong> 2"
      ],
      "text/latex": [
       "\\textbf{png:} 2"
      ],
      "text/markdown": [
       "**png:** 2"
      ],
      "text/plain": [
       "png \n",
       "  2 "
      ]
     },
     "metadata": {},
     "output_type": "display_data"
    },
    {
     "data": {
      "text/html": [
       "<strong>png:</strong> 2"
      ],
      "text/latex": [
       "\\textbf{png:} 2"
      ],
      "text/markdown": [
       "**png:** 2"
      ],
      "text/plain": [
       "png \n",
       "  2 "
      ]
     },
     "metadata": {},
     "output_type": "display_data"
    }
   ],
   "source": [
    "direct = rep(c(\"Up\",\"Down\",\"Rest\"),3)\n",
    "geno = c(rep(\"B73\",3),rep(\"W22\",3),rep(\"Mo17\",3))\n",
    "fdata = dataorg(direct, geno, cold, heat)\n",
    "colddata = fdata[[1]]\n",
    "heatdata = fdata[[2]]\n",
    "coldprop = colddata %>% group_by(geno) %>% mutate(proportion=value/sum(value)) %>% mutate(cc_cum = cumsum(value))\n",
    "heatprop = heatdata %>% group_by(geno) %>% mutate(proportion=value/sum(value)) %>% mutate(cc_cum = cumsum(value))\n",
    "\n",
    "svg(\"cold-TEelement.svg\")\n",
    "ggplot(coldprop, aes(x = \"\", y = proportion, fill = direct)) +\n",
    "  geom_bar(width = 1, stat = \"identity\", color = \"black\") +\n",
    "  geom_text(aes(y = proportion, label = value), size=5, color = \"black\")+\n",
    "  coord_polar(\"y\", start = 0)+\n",
    "  scale_fill_manual(values=ccolor)+facet_wrap(~geno,ncol=1)+\n",
    "  theme_void()\n",
    "dev.off()\n",
    "\n",
    "svg(\"heat-TEelement.svg\")\n",
    "ggplot(heatprop, aes(x = \"\", y = proportion, fill = direct)) +\n",
    "  geom_bar(width = 1, stat = \"identity\", color = \"black\") +\n",
    "  geom_text(aes(y = proportion, label = value), size=5, color = \"black\")+\n",
    "  coord_polar(\"y\", start = 0)+\n",
    "  scale_fill_manual(values=hcolor)+facet_wrap(~geno,ncol=1)+\n",
    "  theme_void()\n",
    "dev.off()"
   ]
  }
 ],
 "metadata": {
  "kernelspec": {
   "display_name": "R 3.6",
   "language": "R",
   "name": "ir36"
  },
  "language_info": {
   "codemirror_mode": "r",
   "file_extension": ".r",
   "mimetype": "text/x-r-source",
   "name": "R",
   "pygments_lexer": "r",
   "version": "3.6.2"
  }
 },
 "nbformat": 4,
 "nbformat_minor": 2
}
